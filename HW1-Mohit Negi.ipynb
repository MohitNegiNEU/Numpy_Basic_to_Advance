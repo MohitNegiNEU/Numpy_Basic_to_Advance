{
 "cells": [
  {
   "cell_type": "markdown",
   "id": "advance-remainder",
   "metadata": {},
   "source": [
    "### **1.Create Numpy Arrays**"
   ]
  },
  {
   "cell_type": "code",
   "execution_count": 170,
   "id": "organizational-holder",
   "metadata": {},
   "outputs": [],
   "source": [
    "#List of libraries used:\n",
    "#Importing numpy library\n",
    "import numpy as np"
   ]
  },
  {
   "cell_type": "code",
   "execution_count": 106,
   "id": "religious-ordinary",
   "metadata": {},
   "outputs": [
    {
     "data": {
      "text/plain": [
       "array([1, 2, 3])"
      ]
     },
     "execution_count": 106,
     "metadata": {},
     "output_type": "execute_result"
    }
   ],
   "source": [
    "#1.1.Create an array\n",
    "np.array([1,2,3])"
   ]
  },
  {
   "cell_type": "code",
   "execution_count": 107,
   "id": "heavy-resolution",
   "metadata": {},
   "outputs": [
    {
     "data": {
      "text/plain": [
       "array([1, 2])"
      ]
     },
     "execution_count": 107,
     "metadata": {},
     "output_type": "execute_result"
    }
   ],
   "source": [
    "#1.2.Let x = [1, 2]. Convert it into an array.\n",
    "x=[1,2]\n",
    "np.array(x)"
   ]
  },
  {
   "cell_type": "code",
   "execution_count": 108,
   "id": "herbal-camcorder",
   "metadata": {},
   "outputs": [
    {
     "data": {
      "text/plain": [
       "array([[1, 1],\n",
       "       [1, 1],\n",
       "       [1, 1]])"
      ]
     },
     "execution_count": 108,
     "metadata": {},
     "output_type": "execute_result"
    }
   ],
   "source": [
    "#1.3.Create an 2D array with shape of (3,2), filled with ones.\n",
    "np.ones((3,2),dtype=int)"
   ]
  },
  {
   "cell_type": "code",
   "execution_count": 109,
   "id": "ignored-return",
   "metadata": {},
   "outputs": [
    {
     "data": {
      "text/plain": [
       "array([[1., 0., 0.],\n",
       "       [0., 1., 0.],\n",
       "       [0., 0., 1.]])"
      ]
     },
     "execution_count": 109,
     "metadata": {},
     "output_type": "execute_result"
    }
   ],
   "source": [
    "#1.4.Create a 3x3 2D array with ones on the diagonal and zeros elsewhere. \n",
    "np.identity(3)"
   ]
  },
  {
   "cell_type": "code",
   "execution_count": 110,
   "id": "powered-quebec",
   "metadata": {},
   "outputs": [
    {
     "data": {
      "text/plain": [
       "array([[6, 6, 6, 6, 6],\n",
       "       [6, 6, 6, 6, 6]])"
      ]
     },
     "execution_count": 110,
     "metadata": {},
     "output_type": "execute_result"
    }
   ],
   "source": [
    "#1.5.Create an 2D array of 2 x 5 shape, filled with 6.\n",
    "np.full((2,5),6)"
   ]
  },
  {
   "cell_type": "code",
   "execution_count": 111,
   "id": "standing-kruger",
   "metadata": {},
   "outputs": [
    {
     "data": {
      "text/plain": [
       "array([  2,   4,   6,   8,  10,  12,  14,  16,  18,  20,  22,  24,  26,\n",
       "        28,  30,  32,  34,  36,  38,  40,  42,  44,  46,  48,  50,  52,\n",
       "        54,  56,  58,  60,  62,  64,  66,  68,  70,  72,  74,  76,  78,\n",
       "        80,  82,  84,  86,  88,  90,  92,  94,  96,  98, 100])"
      ]
     },
     "execution_count": 111,
     "metadata": {},
     "output_type": "execute_result"
    }
   ],
   "source": [
    "#1.6.Create an array of 2, 4, 6, 8, ..., 98, 100.\n",
    "np.arange(2,102,2)"
   ]
  },
  {
   "cell_type": "code",
   "execution_count": 112,
   "id": "italian-diary",
   "metadata": {},
   "outputs": [
    {
     "data": {
      "text/plain": [
       "array([0, 0, 0, 0, 0, 0, 0, 0, 0, 0])"
      ]
     },
     "execution_count": 112,
     "metadata": {},
     "output_type": "execute_result"
    }
   ],
   "source": [
    "#1.7.1.Create an array of 10 zeros\n",
    "np.full((10,),0)"
   ]
  },
  {
   "cell_type": "code",
   "execution_count": 113,
   "id": "wireless-march",
   "metadata": {},
   "outputs": [
    {
     "data": {
      "text/plain": [
       "array([5, 5, 5, 5, 5, 5, 5, 5, 5, 5])"
      ]
     },
     "execution_count": 113,
     "metadata": {},
     "output_type": "execute_result"
    }
   ],
   "source": [
    "#1.7.2.Create an array of 10 fives\n",
    "np.full((10,),5)"
   ]
  },
  {
   "cell_type": "code",
   "execution_count": 114,
   "id": "human-reflection",
   "metadata": {},
   "outputs": [
    {
     "data": {
      "text/plain": [
       "array([[[44, 47, 64],\n",
       "        [67, 67,  9],\n",
       "        [83, 21, 36]],\n",
       "\n",
       "       [[87, 70, 88],\n",
       "        [88, 12, 58],\n",
       "        [65, 39, 87]],\n",
       "\n",
       "       [[46, 88, 81],\n",
       "        [37, 25, 77],\n",
       "        [72,  9, 20]]])"
      ]
     },
     "execution_count": 114,
     "metadata": {},
     "output_type": "execute_result"
    }
   ],
   "source": [
    "#1.8.Create an 3x3x3 array filled with arbitrary values.\n",
    "np.random.seed(0)\n",
    "np.random.randint(100,size=(3,3,3))"
   ]
  },
  {
   "cell_type": "code",
   "execution_count": 115,
   "id": "numeric-ownership",
   "metadata": {},
   "outputs": [
    {
     "data": {
      "text/plain": [
       "array([[13, 10, 13, 15],\n",
       "       [10, 12, 13, 18],\n",
       "       [11, 13, 13, 13]])"
      ]
     },
     "execution_count": 115,
     "metadata": {},
     "output_type": "execute_result"
    }
   ],
   "source": [
    "#1.9.Create a 3x4 2D array filled with values from 10 to 21 (inclusive).\n",
    "np.random.randint(10,22,size=(3,4))"
   ]
  },
  {
   "cell_type": "code",
   "execution_count": 116,
   "id": "reserved-locator",
   "metadata": {},
   "outputs": [
    {
     "data": {
      "text/plain": [
       "array([ 5,  8, 11, 14, 17, 20, 23, 26, 29, 32])"
      ]
     },
     "execution_count": 116,
     "metadata": {},
     "output_type": "execute_result"
    }
   ],
   "source": [
    "#1.10.Create a numpy array of length 10, starting from 5 and has a step of 3 between consecutive numbers\n",
    "a=np.arange(5,50,3)\n",
    "a1=a[:10]\n",
    "a1"
   ]
  },
  {
   "cell_type": "markdown",
   "id": "solid-dream",
   "metadata": {},
   "source": [
    "### **2.Operations on Numpy Arrays**"
   ]
  },
  {
   "cell_type": "code",
   "execution_count": 174,
   "id": "legitimate-absence",
   "metadata": {},
   "outputs": [
    {
     "data": {
      "text/plain": [
       "array([[0.54340494, 0.27836939],\n",
       "       [0.42451759, 0.84477613],\n",
       "       [0.00471886, 0.12156912]])"
      ]
     },
     "execution_count": 174,
     "metadata": {},
     "output_type": "execute_result"
    }
   ],
   "source": [
    "#2.1.Create an array of shape (3, 2) and populate it with random samples from a uniform distribution over [0, 1) and confirm you can get the same value when you run it next time.\n",
    "np.random.seed(100)\n",
    "op1=np.random.uniform(0,1,size=(3,2))\n",
    "op1"
   ]
  },
  {
   "cell_type": "code",
   "execution_count": 175,
   "id": "coordinated-masters",
   "metadata": {},
   "outputs": [
    {
     "name": "stdout",
     "output_type": "stream",
     "text": [
      "8\n"
     ]
    }
   ],
   "source": [
    "#2.2.Find the index of 5th repetition of number 1 in the given array x.\n",
    "x=[1, 2, 1, 1, 3, 4, 3, 1, 1, 2, 1, 1, 2]\n",
    "x=np.array(x)\n",
    "count=0\n",
    "for i in range(len(x)):\n",
    "    if x[i]==1:\n",
    "        count=count+1\n",
    "        if count==5:\n",
    "            print(i)"
   ]
  },
  {
   "cell_type": "code",
   "execution_count": 118,
   "id": "blank-september",
   "metadata": {},
   "outputs": [
    {
     "name": "stdout",
     "output_type": "stream",
     "text": [
      "[1 2 3 4] [6 7 8] [8 9]\n"
     ]
    }
   ],
   "source": [
    "#2.3.Let x be an array [1, 2, 3, ..., 9]. Split x into 3 arrays, each of which has 4, 2, and 3 elements in the original order.\n",
    "x=np.arange(1,10)\n",
    "x1=x[:4]\n",
    "x2=x[5:8]\n",
    "x3=x[-2:]\n",
    "print(x1,x2,x3)"
   ]
  },
  {
   "cell_type": "code",
   "execution_count": 119,
   "id": "reverse-insulin",
   "metadata": {},
   "outputs": [
    {
     "data": {
      "text/plain": [
       "[array([[0., 1., 2., 3.],\n",
       "        [4., 5., 6., 7.]]),\n",
       " array([[ 8.,  9., 10., 11.],\n",
       "        [12., 13., 14., 15.]])]"
      ]
     },
     "execution_count": 119,
     "metadata": {},
     "output_type": "execute_result"
    }
   ],
   "source": [
    "#2.4.Use np.split to split the array into left and right halves.\n",
    "x4=  [[ 0., 1., 2., 3.], [ 4., 5., 6., 7.], [ 8., 9., 10., 11.], [ 12., 13., 14., 15.]]\n",
    "np.split(x4,[2])"
   ]
  },
  {
   "cell_type": "code",
   "execution_count": 120,
   "id": "aerial-owner",
   "metadata": {},
   "outputs": [
    {
     "data": {
      "text/plain": [
       "array([[10, 15],\n",
       "       [25, 30]])"
      ]
     },
     "execution_count": 120,
     "metadata": {},
     "output_type": "execute_result"
    }
   ],
   "source": [
    "#2.5.1.Slicing to get the sub-array [[10,15], [25,30]]\n",
    "x5=[[5,10,15], [20,25,30], [35,40,45]]\n",
    "x5=np.array(x5)\n",
    "x5[:2,1:]"
   ]
  },
  {
   "cell_type": "code",
   "execution_count": 121,
   "id": "dated-eating",
   "metadata": {},
   "outputs": [
    {
     "data": {
      "text/plain": [
       "array([[20]])"
      ]
     },
     "execution_count": 121,
     "metadata": {},
     "output_type": "execute_result"
    }
   ],
   "source": [
    "#2.5.2. Getting individual element value \"20\"\n",
    "x5[1:2,:1]"
   ]
  },
  {
   "cell_type": "code",
   "execution_count": 122,
   "id": "olympic-upper",
   "metadata": {},
   "outputs": [
    {
     "data": {
      "text/plain": [
       "array([[ 1,  2,  3,  7,  8,  9],\n",
       "       [ 4,  5,  6, 10, 11, 12]])"
      ]
     },
     "execution_count": 122,
     "metadata": {},
     "output_type": "execute_result"
    }
   ],
   "source": [
    "#2.6.Concatenate x and y\n",
    "x=np.array([[ 1, 2, 3], [ 4, 5, 6]])\n",
    "y=np.array([[ 7, 8, 9], [10, 11 ,12]])\n",
    "np.concatenate((x,y),axis=1)"
   ]
  },
  {
   "cell_type": "code",
   "execution_count": 123,
   "id": "equipped-revolution",
   "metadata": {},
   "outputs": [
    {
     "name": "stdout",
     "output_type": "stream",
     "text": [
      "\n",
      " 0.375\n",
      "\n",
      " 0.0\n",
      "\n",
      " 0.4\n",
      "\n",
      " 1.0\n",
      "\n",
      " 0.0\n"
     ]
    }
   ],
   "source": [
    "#2.7.Compute the min/max (min is divided by max) for each row for given 2d numpy array, in which integer values range from 1 to 10 and shape is (5,3).\n",
    "np.random.seed(100)\n",
    "x=np.random.randint(10,size=(5,3))\n",
    "num_row,num_col=x.shape\n",
    "for i in range(num_row):\n",
    "    curr_min=x[i,0]\n",
    "    for j in range(num_col):\n",
    "        if curr_min>x[i,j]:\n",
    "            curr_max=curr_min\n",
    "            curr_min=x[i,j]\n",
    "        else:\n",
    "            curr_max=x[i,j]\n",
    "        if j==num_col-1:\n",
    "            div=curr_min/curr_max\n",
    "            print(\"\\n\",div)"
   ]
  },
  {
   "cell_type": "code",
   "execution_count": 144,
   "id": "classified-sound",
   "metadata": {},
   "outputs": [
    {
     "data": {
      "text/plain": [
       "array([0, 1, 2, 3, 4, 5, 6, 7, 8, 9])"
      ]
     },
     "execution_count": 144,
     "metadata": {},
     "output_type": "execute_result"
    }
   ],
   "source": [
    "#2.8.Convert 3 arrays into a flat linear 1d array\n",
    "arr1=np.arange(0,3,1)\n",
    "arr2=np.arange(3,7,1)\n",
    "arr3=np.arange(7,10,1)\n",
    "np.concatenate((arr1,arr2,arr3),axis=0)"
   ]
  },
  {
   "cell_type": "code",
   "execution_count": 125,
   "id": "atomic-vegetable",
   "metadata": {},
   "outputs": [
    {
     "name": "stdout",
     "output_type": "stream",
     "text": [
      "6\n",
      "9\n"
     ]
    }
   ],
   "source": [
    "#2.9.Get all items between 5 and 10 from a.\n",
    "a=np.array([2, 6, 1, 9, 10, 3, 27])\n",
    "for i in range(len(a)):\n",
    "    if a[i]>5 and a[i]<10:\n",
    "        print(a[i])"
   ]
  },
  {
   "cell_type": "code",
   "execution_count": 126,
   "id": "executive-structure",
   "metadata": {},
   "outputs": [
    {
     "name": "stdout",
     "output_type": "stream",
     "text": [
      "The value 2 at position: a= 1 & at b= 1 \n",
      "\n",
      "The value 2 at position: a= 1 & at b= 3 \n",
      "\n",
      "The value 2 at position: a= 3 & at b= 1 \n",
      "\n",
      "The value 2 at position: a= 3 & at b= 3 \n",
      "\n",
      "The value 4 at position: a= 5 & at b= 5 \n",
      "\n",
      "The value 4 at position: a= 5 & at b= 7 \n",
      "\n",
      "The value 4 at position: a= 7 & at b= 5 \n",
      "\n",
      "The value 4 at position: a= 7 & at b= 7 \n",
      "\n"
     ]
    }
   ],
   "source": [
    "#2.10.Get the positions where elements of a and b match.\n",
    "a=np.array([1,2,3,2,3,4,3,4,5,6])\n",
    "b=np.array( [7,2,10,2,7,4,9,4,9,8])\n",
    "for i in range(len(a)):\n",
    "    for j in range(len(b)):\n",
    "        if a[i]==b[j]:\n",
    "            print(\"The value\",a[i],\"at position: a=\",i,\"& at b=\",j,\"\\n\")"
   ]
  },
  {
   "cell_type": "code",
   "execution_count": 127,
   "id": "black-oxygen",
   "metadata": {},
   "outputs": [
    {
     "data": {
      "text/plain": [
       "array([ 0, -1,  2, -1,  4, -1,  6, -1,  8, -1])"
      ]
     },
     "execution_count": 127,
     "metadata": {},
     "output_type": "execute_result"
    }
   ],
   "source": [
    "#2.11.Replace all odd numbers in arr with -1 without changing arr:\n",
    "arr=np.array([0, 1, 2, 3, 4, 5, 6, 7, 8, 9])\n",
    "for i in range(len(arr)):\n",
    "    if arr[i]%2!=0:\n",
    "        arr[i]=-1\n",
    "arr"
   ]
  },
  {
   "cell_type": "code",
   "execution_count": 145,
   "id": "comic-shaft",
   "metadata": {},
   "outputs": [
    {
     "data": {
      "text/plain": [
       "array([[[8, 8, 3, 7, 7],\n",
       "        [0, 4, 2, 5, 2]],\n",
       "\n",
       "       [[1, 1, 1, 1, 1],\n",
       "        [1, 1, 1, 1, 1]]])"
      ]
     },
     "execution_count": 145,
     "metadata": {},
     "output_type": "execute_result"
    }
   ],
   "source": [
    "#2.12.Stack the arrays a and then b horizontally in order.\n",
    "np.random.seed(100)\n",
    "a=np.random.randint(0,10,size=(2,5))\n",
    "b=np.ones((2,5),dtype=int)\n",
    "np.stack((a,b))"
   ]
  },
  {
   "cell_type": "markdown",
   "id": "partial-membership",
   "metadata": {},
   "source": [
    "###  **3.Indexing and Slicing** "
   ]
  },
  {
   "cell_type": "code",
   "execution_count": 181,
   "id": "educated-battle",
   "metadata": {},
   "outputs": [
    {
     "name": "stdout",
     "output_type": "stream",
     "text": [
      "The arrya a: [ 3  6  9 25 10  8] \n",
      "\n",
      "All elements except first: [ 6  9 25 10  8] \n",
      "\n",
      "To get all elements except the last: [ 3  6  9 25 10] \n",
      "\n",
      "To get every other element from first element: [ 3  9 10] \n",
      "\n",
      " To get every element of the array except the first element: [ 6 25  8] \n",
      "\n",
      "Reverse of the array: [ 8 10 25  9  6  3] \n",
      "\n"
     ]
    }
   ],
   "source": [
    "#3.1.1.To get all elements except the first\n",
    "#3.1.2.To get all elements except the last\n",
    "#3.1.3.To get every other element of the array (operation from the first element)\n",
    "#3.1.4. To get every element of the array except the first element\n",
    "#3.1.5.To reverse the array\n",
    "a=np.array( [ 3, 6, 9, 25, 10, 8] )\n",
    "print(\"The arrya a:\",a,\"\\n\")\n",
    "print(\"All elements except first:\",a[1:],\"\\n\")\n",
    "print(\"To get all elements except the last:\",a[:-1],\"\\n\")\n",
    "print(\"To get every other element from first element:\",a[::2],\"\\n\")\n",
    "print(\" To get every element of the array except the first element:\",a[1::2],\"\\n\")\n",
    "print(\"Reverse of the array:\",np.flip(a),\"\\n\")"
   ]
  },
  {
   "cell_type": "code",
   "execution_count": 159,
   "id": "affected-mobility",
   "metadata": {},
   "outputs": [
    {
     "data": {
      "text/plain": [
       "array([[ 0,  1,  2,  3],\n",
       "       [ 4,  5,  6,  7],\n",
       "       [ 8,  9, 10, 11],\n",
       "       [12, 13, 14, 15],\n",
       "       [16, 17, 18, 19],\n",
       "       [20, 21, 22, 23],\n",
       "       [24, 25, 26, 27],\n",
       "       [28, 29, 30, 31]])"
      ]
     },
     "execution_count": 159,
     "metadata": {},
     "output_type": "execute_result"
    }
   ],
   "source": [
    "#3.2.1.Create an array with the components as 0-31 and the shape is (8,4).\n",
    "b=np.arange(32).reshape(8,4)\n",
    "b"
   ]
  },
  {
   "cell_type": "code",
   "execution_count": 131,
   "id": "interracial-incidence",
   "metadata": {},
   "outputs": [
    {
     "data": {
      "text/plain": [
       "array([[ 0,  1,  0,  3],\n",
       "       [ 4,  5,  6,  7],\n",
       "       [ 8,  9, 10, 11],\n",
       "       [12, 13, 14, 15],\n",
       "       [16, 17, 18, 19],\n",
       "       [20, 21, 22, 23],\n",
       "       [24, 25, 26, 27],\n",
       "       [28, 29, 30, 31]])"
      ]
     },
     "execution_count": 131,
     "metadata": {},
     "output_type": "execute_result"
    }
   ],
   "source": [
    "#3.2.2.Set the 3rd element in the 1st row to 0.\n",
    "b[0,2]=0\n",
    "b"
   ]
  },
  {
   "cell_type": "code",
   "execution_count": 132,
   "id": "dirty-extra",
   "metadata": {},
   "outputs": [
    {
     "data": {
      "text/plain": [
       "array([[ 1],\n",
       "       [ 5],\n",
       "       [ 9],\n",
       "       [13],\n",
       "       [17],\n",
       "       [21],\n",
       "       [25],\n",
       "       [29]])"
      ]
     },
     "execution_count": 132,
     "metadata": {},
     "output_type": "execute_result"
    }
   ],
   "source": [
    "b[:,1:2]"
   ]
  },
  {
   "cell_type": "code",
   "execution_count": 133,
   "id": "written-pickup",
   "metadata": {},
   "outputs": [
    {
     "data": {
      "text/plain": [
       "array([[0]])"
      ]
     },
     "execution_count": 133,
     "metadata": {},
     "output_type": "execute_result"
    }
   ],
   "source": [
    "#3.2.3.the second column.\n",
    "b[:1,:1]"
   ]
  },
  {
   "cell_type": "code",
   "execution_count": 160,
   "id": "needed-morrison",
   "metadata": {},
   "outputs": [
    {
     "data": {
      "text/plain": [
       "array([[ 9, 10, 11],\n",
       "       [13, 14, 15],\n",
       "       [17, 18, 19]])"
      ]
     },
     "execution_count": 160,
     "metadata": {},
     "output_type": "execute_result"
    }
   ],
   "source": [
    "#3.2.4.Get the 3x3 region from the array: \n",
    "b[2:5,1:]"
   ]
  },
  {
   "cell_type": "code",
   "execution_count": 135,
   "id": "russian-slave",
   "metadata": {},
   "outputs": [
    {
     "data": {
      "text/plain": [
       "array([[0., 1., 0., 1.],\n",
       "       [1., 0., 1., 0.],\n",
       "       [0., 1., 0., 1.],\n",
       "       [1., 0., 1., 0.]])"
      ]
     },
     "execution_count": 135,
     "metadata": {},
     "output_type": "execute_result"
    }
   ],
   "source": [
    "#3.3.Create an 4x4 matrix in which 0 and 1 are staggered, with zeros on the main diagonal. Please use the numpy \"slicing\" method to realize. \n",
    "stagg= np.zeros((4, 4))\n",
    "stagg[::2, 1::2] = 1\n",
    "stagg[1::2, ::2] = 1\n",
    "stagg"
   ]
  },
  {
   "cell_type": "code",
   "execution_count": 161,
   "id": "imported-cardiff",
   "metadata": {},
   "outputs": [
    {
     "data": {
      "text/plain": [
       "array([[2., 2., 2.],\n",
       "       [3., 3., 3.],\n",
       "       [4., 4., 4.]])"
      ]
     },
     "execution_count": 161,
     "metadata": {},
     "output_type": "execute_result"
    }
   ],
   "source": [
    "#3.4.Subtract the 1d array b_1d from the 2d array a_2d, such that each item of b_1d subtracts from respective row of a_2d.\n",
    "a_2d =np.array( [[3,3,3],[4,4,4],[5,5,5]])\n",
    "b_1d=np.array([1,1,1])\n",
    "desired_arr=np.empty(np.shape(a_2d))\n",
    "for i in range(len(a_2d)):\n",
    "    for j in range(len(a_2d)):\n",
    "       desired_arr[i,j]=a_2d[i,j]-b_1d[i]\n",
    "desired_arr"
   ]
  },
  {
   "cell_type": "markdown",
   "id": "parental-blocking",
   "metadata": {},
   "source": [
    "###  **4. Average, variance, standard deviation of the 1000 elements array** "
   ]
  },
  {
   "cell_type": "code",
   "execution_count": 137,
   "id": "uniform-armor",
   "metadata": {},
   "outputs": [
    {
     "name": "stdout",
     "output_type": "stream",
     "text": [
      "The average of the matrix is: 50.377\n",
      "The Variance of the matrix is: 834.04687\n",
      "The Standard Deviation of the matrix is: 28.87987\n"
     ]
    }
   ],
   "source": [
    "np.random.seed(100)\n",
    "main_arr=np.random.randint(100,size=(1000,))\n",
    "main_arr\n",
    "print(\"The average of the matrix is:\",np.around(np.average(main_arr),decimals=5))\n",
    "print(\"The Variance of the matrix is:\",np.around(np.var(main_arr),decimals=5))\n",
    "print(\"The Standard Deviation of the matrix is:\",np.around(np.std(main_arr),decimals=5))"
   ]
  },
  {
   "cell_type": "markdown",
   "id": "falling-eagle",
   "metadata": {},
   "source": [
    "### **5.Write a 6x6 times table matrix**"
   ]
  },
  {
   "cell_type": "code",
   "execution_count": 138,
   "id": "sexual-blocking",
   "metadata": {},
   "outputs": [
    {
     "data": {
      "text/plain": [
       "array([[ 1,  2,  3,  4,  5,  6],\n",
       "       [ 2,  4,  6,  8, 10, 12],\n",
       "       [ 3,  6,  9, 12, 15, 18],\n",
       "       [ 4,  8, 12, 16, 20, 24],\n",
       "       [ 5, 10, 15, 20, 25, 30],\n",
       "       [ 6, 12, 18, 24, 30, 36]])"
      ]
     },
     "execution_count": 138,
     "metadata": {},
     "output_type": "execute_result"
    }
   ],
   "source": [
    "#5.1.By using numpy broadcasting\n",
    "num_a=np.arange(1,7,dtype=int)\n",
    "num_b=np.vstack(num_a)\n",
    "table_arr=num_a*num_b\n",
    "table_arr"
   ]
  },
  {
   "cell_type": "code",
   "execution_count": 139,
   "id": "abstract-consideration",
   "metadata": {},
   "outputs": [
    {
     "data": {
      "text/plain": [
       "array([[ 1,  2,  3,  4,  5,  6],\n",
       "       [ 2,  4,  6,  8, 10, 12],\n",
       "       [ 3,  6,  9, 12, 15, 18],\n",
       "       [ 4,  8, 12, 16, 20, 24],\n",
       "       [ 5, 10, 15, 20, 25, 30],\n",
       "       [ 6, 12, 18, 24, 30, 36]])"
      ]
     },
     "execution_count": 139,
     "metadata": {},
     "output_type": "execute_result"
    }
   ],
   "source": [
    "#5.2.By using for loop\n",
    "table_arr=np.empty([6,6],dtype=int)\n",
    "for i in range(len(num_a)):\n",
    "    for j in range(len(num_a)):\n",
    "        table_arr[i,j]=num_a[i]*num_a[j]\n",
    "table_arr"
   ]
  },
  {
   "cell_type": "markdown",
   "id": "peaceful-necessity",
   "metadata": {},
   "source": [
    "### **6.Broadcasting in Practice: Centering an array**"
   ]
  },
  {
   "cell_type": "code",
   "execution_count": 165,
   "id": "parental-tourism",
   "metadata": {},
   "outputs": [
    {
     "name": "stdout",
     "output_type": "stream",
     "text": [
      "The array of observed value: [[ 8. 24. 67.]\n",
      " [87. 79. 48.]\n",
      " [10. 94. 52.]\n",
      " [98. 53. 66.]\n",
      " [98. 14. 34.]\n",
      " [24. 15. 60.]\n",
      " [58. 16.  9.]\n",
      " [93. 86.  2.]\n",
      " [27.  4. 31.]\n",
      " [ 1. 13. 83.]]\n",
      "\n",
      " The array of observed  mean value: [50.4 39.8 45.2]\n"
     ]
    }
   ],
   "source": [
    "#6.1.Imagine you have an array of 10 observations, each of which consists of 3 values(floating-point numbers). Store this in an array with the shape(10, 3). Seed is set as 100. \n",
    "#6.2.Compute the mean of each feature using the mean aggregate across the first dimension:\n",
    "np.random.seed(100)\n",
    "observ_val=np.random.randint(100,size=(10,3)).astype(\"float\")\n",
    "observ_ave=np.mean(observ_val,axis=0)\n",
    "print(\"The array of observed value:\",observ_val)\n",
    "print(\"\\n The array of observed  mean value:\",observ_ave)"
   ]
  },
  {
   "cell_type": "code",
   "execution_count": 141,
   "id": "saved-apple",
   "metadata": {},
   "outputs": [
    {
     "data": {
      "text/plain": [
       "array([[-42.4, -15.8,  21.8],\n",
       "       [ 36.6,  39.2,   2.8],\n",
       "       [-40.4,  54.2,   6.8],\n",
       "       [ 47.6,  13.2,  20.8],\n",
       "       [ 47.6, -25.8, -11.2],\n",
       "       [-26.4, -24.8,  14.8],\n",
       "       [  7.6, -23.8, -36.2],\n",
       "       [ 42.6,  46.2, -43.2],\n",
       "       [-23.4, -35.8, -14.2],\n",
       "       [-49.4, -26.8,  37.8]])"
      ]
     },
     "execution_count": 141,
     "metadata": {},
     "output_type": "execute_result"
    }
   ],
   "source": [
    "#6.3.Center the X array by subtracting the mean:\n",
    "center_val=observ_val-observ_ave\n",
    "center_val"
   ]
  },
  {
   "cell_type": "code",
   "execution_count": 142,
   "id": "under-amplifier",
   "metadata": {},
   "outputs": [
    {
     "data": {
      "text/plain": [
       "array([ 1.42108547e-15,  2.84217094e-15, -2.84217094e-15])"
      ]
     },
     "execution_count": 142,
     "metadata": {},
     "output_type": "execute_result"
    }
   ],
   "source": [
    "#6.4.Double-check the correctness of the centralization using the mean aggregate again (check that the centered array has near zero mean).\n",
    "np.mean(center_val,axis=0)"
   ]
  }
 ],
 "metadata": {
  "kernelspec": {
   "display_name": "Python 3",
   "language": "python",
   "name": "python3"
  },
  "language_info": {
   "codemirror_mode": {
    "name": "ipython",
    "version": 3
   },
   "file_extension": ".py",
   "mimetype": "text/x-python",
   "name": "python",
   "nbconvert_exporter": "python",
   "pygments_lexer": "ipython3",
   "version": "3.9.1"
  }
 },
 "nbformat": 4,
 "nbformat_minor": 5
}
